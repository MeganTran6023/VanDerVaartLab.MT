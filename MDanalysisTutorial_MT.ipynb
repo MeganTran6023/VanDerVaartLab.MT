{
 "cells": [
  {
   "cell_type": "code",
   "execution_count": 12,
   "id": "3129691f",
   "metadata": {},
   "outputs": [
    {
     "name": "stdout",
     "output_type": "stream",
     "text": [
      "<Universe with 3341 atoms>\n",
      "Using MDAnalysis version 2.6.1\n"
     ]
    }
   ],
   "source": [
    "import MDAnalysis as mda\n",
    "from MDAnalysis.tests.datafiles import PSF, DCD, GRO, XTC\n",
    "\n",
    "import warnings\n",
    "# suppress some MDAnalysis warnings about PSF files\n",
    "warnings.filterwarnings('ignore')\n",
    "\n",
    "from matplotlib import pyplot as plt\n",
    "\n",
    "print(mda.Universe(PSF, DCD))\n",
    "print(\"Using MDAnalysis version\", mda.__version__)\n",
    "\n",
    "%matplotlib inline"
   ]
  },
  {
   "cell_type": "code",
   "execution_count": 11,
   "id": "8507e82e",
   "metadata": {},
   "outputs": [
    {
     "name": "stdout",
     "output_type": "stream",
     "text": [
      "Collecting MDAnalysisTestsNote: you may need to restart the kernel to use updated packages.\n",
      "\n",
      "  Downloading MDAnalysisTests-2.6.1.tar.gz (55.4 MB)\n",
      "     ---------------------------------------- 55.4/55.4 MB 3.9 MB/s eta 0:00:00\n",
      "  Preparing metadata (setup.py): started\n",
      "  Preparing metadata (setup.py): finished with status 'done'\n",
      "Requirement already satisfied: MDAnalysis==2.6.1 in c:\\users\\megan tran\\anaconda3\\lib\\site-packages (from MDAnalysisTests) (2.6.1)\n",
      "Requirement already satisfied: pytest>=3.3.0 in c:\\users\\megan tran\\anaconda3\\lib\\site-packages (from MDAnalysisTests) (7.1.2)\n",
      "Collecting hypothesis\n",
      "  Downloading hypothesis-6.90.0-py3-none-any.whl (423 kB)\n",
      "     ------------------------------------- 423.8/423.8 kB 25.8 MB/s eta 0:00:00\n",
      "Requirement already satisfied: matplotlib>=1.5.1 in c:\\users\\megan tran\\anaconda3\\lib\\site-packages (from MDAnalysis==2.6.1->MDAnalysisTests) (3.7.0)\n",
      "Requirement already satisfied: networkx>=2.0 in c:\\users\\megan tran\\anaconda3\\lib\\site-packages (from MDAnalysis==2.6.1->MDAnalysisTests) (2.8.4)\n",
      "Requirement already satisfied: mmtf-python>=1.0.0 in c:\\users\\megan tran\\anaconda3\\lib\\site-packages (from MDAnalysis==2.6.1->MDAnalysisTests) (1.1.3)\n",
      "Requirement already satisfied: fasteners in c:\\users\\megan tran\\anaconda3\\lib\\site-packages (from MDAnalysis==2.6.1->MDAnalysisTests) (0.19)\n",
      "Requirement already satisfied: biopython>=1.80 in c:\\users\\megan tran\\anaconda3\\lib\\site-packages (from MDAnalysis==2.6.1->MDAnalysisTests) (1.81)\n",
      "Requirement already satisfied: numpy<2.0,>=1.22.3 in c:\\users\\megan tran\\anaconda3\\lib\\site-packages (from MDAnalysis==2.6.1->MDAnalysisTests) (1.23.5)\n",
      "Requirement already satisfied: tqdm>=4.43.0 in c:\\users\\megan tran\\anaconda3\\lib\\site-packages (from MDAnalysis==2.6.1->MDAnalysisTests) (4.64.1)\n",
      "Requirement already satisfied: scipy>=1.5.0 in c:\\users\\megan tran\\anaconda3\\lib\\site-packages (from MDAnalysis==2.6.1->MDAnalysisTests) (1.10.0)\n",
      "Requirement already satisfied: packaging in c:\\users\\megan tran\\anaconda3\\lib\\site-packages (from MDAnalysis==2.6.1->MDAnalysisTests) (22.0)\n",
      "Requirement already satisfied: joblib>=0.12 in c:\\users\\megan tran\\anaconda3\\lib\\site-packages (from MDAnalysis==2.6.1->MDAnalysisTests) (1.1.1)\n",
      "Requirement already satisfied: threadpoolctl in c:\\users\\megan tran\\anaconda3\\lib\\site-packages (from MDAnalysis==2.6.1->MDAnalysisTests) (2.2.0)\n",
      "Requirement already satisfied: GridDataFormats>=0.4.0 in c:\\users\\megan tran\\anaconda3\\lib\\site-packages (from MDAnalysis==2.6.1->MDAnalysisTests) (1.0.2)\n",
      "Requirement already satisfied: attrs>=19.2.0 in c:\\users\\megan tran\\anaconda3\\lib\\site-packages (from pytest>=3.3.0->MDAnalysisTests) (22.1.0)\n",
      "Requirement already satisfied: iniconfig in c:\\users\\megan tran\\anaconda3\\lib\\site-packages (from pytest>=3.3.0->MDAnalysisTests) (1.1.1)\n",
      "Requirement already satisfied: pluggy<2.0,>=0.12 in c:\\users\\megan tran\\anaconda3\\lib\\site-packages (from pytest>=3.3.0->MDAnalysisTests) (1.0.0)\n",
      "Requirement already satisfied: py>=1.8.2 in c:\\users\\megan tran\\anaconda3\\lib\\site-packages (from pytest>=3.3.0->MDAnalysisTests) (1.11.0)\n",
      "Requirement already satisfied: tomli>=1.0.0 in c:\\users\\megan tran\\anaconda3\\lib\\site-packages (from pytest>=3.3.0->MDAnalysisTests) (2.0.1)\n",
      "Requirement already satisfied: atomicwrites>=1.0 in c:\\users\\megan tran\\anaconda3\\lib\\site-packages (from pytest>=3.3.0->MDAnalysisTests) (1.4.0)\n",
      "Requirement already satisfied: colorama in c:\\users\\megan tran\\anaconda3\\lib\\site-packages (from pytest>=3.3.0->MDAnalysisTests) (0.4.6)\n",
      "Requirement already satisfied: sortedcontainers<3.0.0,>=2.1.0 in c:\\users\\megan tran\\anaconda3\\lib\\site-packages (from hypothesis->MDAnalysisTests) (2.4.0)\n",
      "Collecting exceptiongroup>=1.0.0\n",
      "  Downloading exceptiongroup-1.2.0-py3-none-any.whl (16 kB)\n",
      "Requirement already satisfied: mrcfile in c:\\users\\megan tran\\anaconda3\\lib\\site-packages (from GridDataFormats>=0.4.0->MDAnalysis==2.6.1->MDAnalysisTests) (1.4.3)\n",
      "Requirement already satisfied: pillow>=6.2.0 in c:\\users\\megan tran\\anaconda3\\lib\\site-packages (from matplotlib>=1.5.1->MDAnalysis==2.6.1->MDAnalysisTests) (9.4.0)\n",
      "Requirement already satisfied: kiwisolver>=1.0.1 in c:\\users\\megan tran\\anaconda3\\lib\\site-packages (from matplotlib>=1.5.1->MDAnalysis==2.6.1->MDAnalysisTests) (1.4.4)\n",
      "Requirement already satisfied: pyparsing>=2.3.1 in c:\\users\\megan tran\\anaconda3\\lib\\site-packages (from matplotlib>=1.5.1->MDAnalysis==2.6.1->MDAnalysisTests) (3.0.9)\n",
      "Requirement already satisfied: cycler>=0.10 in c:\\users\\megan tran\\anaconda3\\lib\\site-packages (from matplotlib>=1.5.1->MDAnalysis==2.6.1->MDAnalysisTests) (0.11.0)\n",
      "Requirement already satisfied: fonttools>=4.22.0 in c:\\users\\megan tran\\anaconda3\\lib\\site-packages (from matplotlib>=1.5.1->MDAnalysis==2.6.1->MDAnalysisTests) (4.25.0)\n",
      "Requirement already satisfied: contourpy>=1.0.1 in c:\\users\\megan tran\\anaconda3\\lib\\site-packages (from matplotlib>=1.5.1->MDAnalysis==2.6.1->MDAnalysisTests) (1.0.5)\n",
      "Requirement already satisfied: python-dateutil>=2.7 in c:\\users\\megan tran\\anaconda3\\lib\\site-packages (from matplotlib>=1.5.1->MDAnalysis==2.6.1->MDAnalysisTests) (2.8.2)\n",
      "Requirement already satisfied: msgpack>=1.0.0 in c:\\users\\megan tran\\anaconda3\\lib\\site-packages (from mmtf-python>=1.0.0->MDAnalysis==2.6.1->MDAnalysisTests) (1.0.3)\n",
      "Requirement already satisfied: six>=1.5 in c:\\users\\megan tran\\anaconda3\\lib\\site-packages (from python-dateutil>=2.7->matplotlib>=1.5.1->MDAnalysis==2.6.1->MDAnalysisTests) (1.16.0)\n",
      "Building wheels for collected packages: MDAnalysisTests\n",
      "  Building wheel for MDAnalysisTests (setup.py): started\n",
      "  Building wheel for MDAnalysisTests (setup.py): finished with status 'done'\n",
      "  Created wheel for MDAnalysisTests: filename=MDAnalysisTests-2.6.1-py3-none-any.whl size=55740312 sha256=2b95cd67cd527e137370652a52263e9cf23f993f5159f3f2cf105b137ccd6ade\n",
      "  Stored in directory: c:\\users\\megan tran\\appdata\\local\\pip\\cache\\wheels\\10\\e9\\3a\\2af0dbd40ff4ae4f8cbf73a77292db94c9fb3c28dc39ac1098\n",
      "Successfully built MDAnalysisTests\n",
      "Installing collected packages: exceptiongroup, hypothesis, MDAnalysisTests\n",
      "Successfully installed MDAnalysisTests-2.6.1 exceptiongroup-1.2.0 hypothesis-6.90.0\n"
     ]
    }
   ],
   "source": [
    "#warning shows MDanalysis not installed\n",
    "\n",
    "# %pip install MDAnalysis\n",
    "# %pip install MDAnalysisTests\n"
   ]
  }
 ],
 "metadata": {
  "kernelspec": {
   "display_name": "Python 3 (ipykernel)",
   "language": "python",
   "name": "python3"
  },
  "language_info": {
   "codemirror_mode": {
    "name": "ipython",
    "version": 3
   },
   "file_extension": ".py",
   "mimetype": "text/x-python",
   "name": "python",
   "nbconvert_exporter": "python",
   "pygments_lexer": "ipython3",
   "version": "3.10.9"
  }
 },
 "nbformat": 4,
 "nbformat_minor": 5
}
