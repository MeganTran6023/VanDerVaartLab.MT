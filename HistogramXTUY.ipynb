{
 "cells": [
  {
   "cell_type": "markdown",
   "id": "73413ae6",
   "metadata": {},
   "source": [
    "## Import Packages"
   ]
  },
  {
   "cell_type": "code",
   "execution_count": 8,
   "id": "f61c05e8",
   "metadata": {},
   "outputs": [],
   "source": [
    "import pandas as pd\n",
    "import numpy as np\n",
    "import matplotlib as plt"
   ]
  },
  {
   "cell_type": "markdown",
   "id": "70824d2c",
   "metadata": {},
   "source": [
    "## 1- Import Dataset"
   ]
  },
  {
   "cell_type": "code",
   "execution_count": 14,
   "id": "3049735d",
   "metadata": {
    "scrolled": false
   },
   "outputs": [
    {
     "data": {
      "text/html": [
       "<div>\n",
       "<style scoped>\n",
       "    .dataframe tbody tr th:only-of-type {\n",
       "        vertical-align: middle;\n",
       "    }\n",
       "\n",
       "    .dataframe tbody tr th {\n",
       "        vertical-align: top;\n",
       "    }\n",
       "\n",
       "    .dataframe thead th {\n",
       "        text-align: right;\n",
       "    }\n",
       "</style>\n",
       "<table border=\"1\" class=\"dataframe\">\n",
       "  <thead>\n",
       "    <tr style=\"text-align: right;\">\n",
       "      <th></th>\n",
       "      <th>Sequences</th>\n",
       "      <th>How long did it take? (ps)</th>\n",
       "      <th>register shift (start)</th>\n",
       "      <th>register shift (stop)</th>\n",
       "      <th>The base pair</th>\n",
       "    </tr>\n",
       "  </thead>\n",
       "  <tbody>\n",
       "    <tr>\n",
       "      <th>0</th>\n",
       "      <td>ATTA-minor</td>\n",
       "      <td>11000</td>\n",
       "      <td>0</td>\n",
       "      <td>1100</td>\n",
       "      <td>T-A</td>\n",
       "    </tr>\n",
       "    <tr>\n",
       "      <th>1</th>\n",
       "      <td>ATTC</td>\n",
       "      <td>28680</td>\n",
       "      <td>0</td>\n",
       "      <td>2868</td>\n",
       "      <td>T-A (above)\\nC-A (below)</td>\n",
       "    </tr>\n",
       "    <tr>\n",
       "      <th>2</th>\n",
       "      <td>ATTG-minor</td>\n",
       "      <td>52010</td>\n",
       "      <td>0</td>\n",
       "      <td>5201</td>\n",
       "      <td>T-A(above)\\nG-A(below)</td>\n",
       "    </tr>\n",
       "    <tr>\n",
       "      <th>3</th>\n",
       "      <td>ATTT</td>\n",
       "      <td>20000</td>\n",
       "      <td>0</td>\n",
       "      <td>2000</td>\n",
       "      <td>T-A (above)\\nT-A (below)</td>\n",
       "    </tr>\n",
       "    <tr>\n",
       "      <th>4</th>\n",
       "      <td>ATTT-minor</td>\n",
       "      <td>20000</td>\n",
       "      <td>0</td>\n",
       "      <td>2000</td>\n",
       "      <td>T-A (below)</td>\n",
       "    </tr>\n",
       "    <tr>\n",
       "      <th>5</th>\n",
       "      <td>CTTA</td>\n",
       "      <td>4410</td>\n",
       "      <td>0</td>\n",
       "      <td>441</td>\n",
       "      <td>T-A (above)\\n(?)-A (below)</td>\n",
       "    </tr>\n",
       "    <tr>\n",
       "      <th>6</th>\n",
       "      <td>GTTG-minor</td>\n",
       "      <td>25820</td>\n",
       "      <td>0</td>\n",
       "      <td>2582</td>\n",
       "      <td>T-A (above)\\nG-A(below)</td>\n",
       "    </tr>\n",
       "    <tr>\n",
       "      <th>7</th>\n",
       "      <td>GTTT-minor</td>\n",
       "      <td>4190</td>\n",
       "      <td>16996</td>\n",
       "      <td>17415</td>\n",
       "      <td>T-A (both above\\nand below)</td>\n",
       "    </tr>\n",
       "  </tbody>\n",
       "</table>\n",
       "</div>"
      ],
      "text/plain": [
       "    Sequences  How long did it take? (ps)  register shift (start)  \\\n",
       "0  ATTA-minor                       11000                       0   \n",
       "1        ATTC                       28680                       0   \n",
       "2  ATTG-minor                       52010                       0   \n",
       "3        ATTT                       20000                       0   \n",
       "4  ATTT-minor                       20000                       0   \n",
       "5        CTTA                        4410                       0   \n",
       "6  GTTG-minor                       25820                       0   \n",
       "7  GTTT-minor                        4190                   16996   \n",
       "\n",
       "   register shift (stop)                The base pair  \n",
       "0                   1100                          T-A  \n",
       "1                   2868     T-A (above)\\nC-A (below)  \n",
       "2                   5201       T-A(above)\\nG-A(below)  \n",
       "3                   2000     T-A (above)\\nT-A (below)  \n",
       "4                   2000                  T-A (below)  \n",
       "5                    441   T-A (above)\\n(?)-A (below)  \n",
       "6                   2582      T-A (above)\\nG-A(below)  \n",
       "7                  17415  T-A (both above\\nand below)  "
      ]
     },
     "execution_count": 14,
     "metadata": {},
     "output_type": "execute_result"
    }
   ],
   "source": [
    "XTUYdata = pd.read_csv(\"XTUY_MT.csv\")\n",
    "XTUYdata"
   ]
  },
  {
   "cell_type": "markdown",
   "id": "8e1cca7a",
   "metadata": {},
   "source": [
    "## 2- Make Dictionary - Names sequences to numerical values for easy processing data"
   ]
  },
  {
   "cell_type": "code",
   "execution_count": 18,
   "id": "9bd583da",
   "metadata": {},
   "outputs": [],
   "source": [
    "XTUYdata = pd.read_csv(\"XTUY_MT.csv\")\n",
    "\n",
    "\n",
    "#create dictionary to convert letters to numbers for respective columns in dataset\n",
    "XTUYseq = {\n",
    "    \"ATTA-minor\" : 1,\n",
    "    \"ATTC\" : 2,\n",
    "    \"ATTG-minor\" : 3,\n",
    "    \"ATTT\" : 4,\n",
    "    \"ATTT-minor\" : 5,\n",
    "    \"CTTA\" : 6,\n",
    "    \"GTTG-minor\" : 7,\n",
    "    \"GTTT-minor\" : 8,\n",
    "}\n",
    "\n",
    "\n",
    "XTUYdata['Sequences'] = XTUYdata['Sequences'].map(XTUYseq)\n",
    "\n",
    "#making new file for dataset to use\n",
    "XTUYdata.to_csv('modifiedXTUY_MT.csv', index=False)"
   ]
  },
  {
   "cell_type": "code",
   "execution_count": 23,
   "id": "e6358366",
   "metadata": {},
   "outputs": [
    {
     "data": {
      "text/html": [
       "<div>\n",
       "<style scoped>\n",
       "    .dataframe tbody tr th:only-of-type {\n",
       "        vertical-align: middle;\n",
       "    }\n",
       "\n",
       "    .dataframe tbody tr th {\n",
       "        vertical-align: top;\n",
       "    }\n",
       "\n",
       "    .dataframe thead th {\n",
       "        text-align: right;\n",
       "    }\n",
       "</style>\n",
       "<table border=\"1\" class=\"dataframe\">\n",
       "  <thead>\n",
       "    <tr style=\"text-align: right;\">\n",
       "      <th></th>\n",
       "      <th>Sequences</th>\n",
       "      <th>How long did it take? (ps)</th>\n",
       "      <th>register shift (start)</th>\n",
       "      <th>register shift (stop)</th>\n",
       "      <th>The base pair</th>\n",
       "    </tr>\n",
       "  </thead>\n",
       "  <tbody>\n",
       "    <tr>\n",
       "      <th>0</th>\n",
       "      <td>1</td>\n",
       "      <td>11000</td>\n",
       "      <td>0</td>\n",
       "      <td>1100</td>\n",
       "      <td>T-A</td>\n",
       "    </tr>\n",
       "    <tr>\n",
       "      <th>1</th>\n",
       "      <td>2</td>\n",
       "      <td>28680</td>\n",
       "      <td>0</td>\n",
       "      <td>2868</td>\n",
       "      <td>T-A (above)\\nC-A (below)</td>\n",
       "    </tr>\n",
       "    <tr>\n",
       "      <th>2</th>\n",
       "      <td>3</td>\n",
       "      <td>52010</td>\n",
       "      <td>0</td>\n",
       "      <td>5201</td>\n",
       "      <td>T-A(above)\\nG-A(below)</td>\n",
       "    </tr>\n",
       "    <tr>\n",
       "      <th>3</th>\n",
       "      <td>4</td>\n",
       "      <td>20000</td>\n",
       "      <td>0</td>\n",
       "      <td>2000</td>\n",
       "      <td>T-A (above)\\nT-A (below)</td>\n",
       "    </tr>\n",
       "    <tr>\n",
       "      <th>4</th>\n",
       "      <td>5</td>\n",
       "      <td>20000</td>\n",
       "      <td>0</td>\n",
       "      <td>2000</td>\n",
       "      <td>T-A (below)</td>\n",
       "    </tr>\n",
       "    <tr>\n",
       "      <th>5</th>\n",
       "      <td>6</td>\n",
       "      <td>4410</td>\n",
       "      <td>0</td>\n",
       "      <td>441</td>\n",
       "      <td>T-A (above)\\n(?)-A (below)</td>\n",
       "    </tr>\n",
       "    <tr>\n",
       "      <th>6</th>\n",
       "      <td>7</td>\n",
       "      <td>25820</td>\n",
       "      <td>0</td>\n",
       "      <td>2582</td>\n",
       "      <td>T-A (above)\\nG-A(below)</td>\n",
       "    </tr>\n",
       "    <tr>\n",
       "      <th>7</th>\n",
       "      <td>8</td>\n",
       "      <td>4190</td>\n",
       "      <td>16996</td>\n",
       "      <td>17415</td>\n",
       "      <td>T-A (both above\\nand below)</td>\n",
       "    </tr>\n",
       "  </tbody>\n",
       "</table>\n",
       "</div>"
      ],
      "text/plain": [
       "   Sequences  How long did it take? (ps)  register shift (start)  \\\n",
       "0          1                       11000                       0   \n",
       "1          2                       28680                       0   \n",
       "2          3                       52010                       0   \n",
       "3          4                       20000                       0   \n",
       "4          5                       20000                       0   \n",
       "5          6                        4410                       0   \n",
       "6          7                       25820                       0   \n",
       "7          8                        4190                   16996   \n",
       "\n",
       "   register shift (stop)                The base pair  \n",
       "0                   1100                          T-A  \n",
       "1                   2868     T-A (above)\\nC-A (below)  \n",
       "2                   5201       T-A(above)\\nG-A(below)  \n",
       "3                   2000     T-A (above)\\nT-A (below)  \n",
       "4                   2000                  T-A (below)  \n",
       "5                    441   T-A (above)\\n(?)-A (below)  \n",
       "6                   2582      T-A (above)\\nG-A(below)  \n",
       "7                  17415  T-A (both above\\nand below)  "
      ]
     },
     "execution_count": 23,
     "metadata": {},
     "output_type": "execute_result"
    }
   ],
   "source": [
    "XTUYdata_new = pd.read_csv(\"modifiedXTUY_MT.csv\")\n",
    "XTUYdata_new\n",
    "\n",
    "#may want to fix values in column \"the base pair\""
   ]
  },
  {
   "cell_type": "markdown",
   "id": "47d52bd5",
   "metadata": {},
   "source": [
    "## 3- Plot histogram (Sequence x Duration RS)\n",
    "\n",
    "### in progress"
   ]
  },
  {
   "cell_type": "code",
   "execution_count": 22,
   "id": "0241d11c",
   "metadata": {},
   "outputs": [
    {
     "ename": "AttributeError",
     "evalue": "module 'matplotlib' has no attribute 'title'",
     "output_type": "error",
     "traceback": [
      "\u001b[1;31m---------------------------------------------------------------------------\u001b[0m",
      "\u001b[1;31mAttributeError\u001b[0m                            Traceback (most recent call last)",
      "Cell \u001b[1;32mIn[22], line 5\u001b[0m\n\u001b[0;32m      2\u001b[0m df\u001b[38;5;241m.\u001b[39mhist(column\u001b[38;5;241m=\u001b[39m\u001b[38;5;124m'\u001b[39m\u001b[38;5;124mSequences\u001b[39m\u001b[38;5;124m'\u001b[39m)\n\u001b[0;32m      4\u001b[0m \u001b[38;5;66;03m# Set the title and axis labels\u001b[39;00m\n\u001b[1;32m----> 5\u001b[0m \u001b[43mplt\u001b[49m\u001b[38;5;241;43m.\u001b[39;49m\u001b[43mtitle\u001b[49m(\u001b[38;5;124m'\u001b[39m\u001b[38;5;124mDuration of Register Shifts\u001b[39m\u001b[38;5;124m'\u001b[39m)\n\u001b[0;32m      6\u001b[0m plt\u001b[38;5;241m.\u001b[39mxlabel(\u001b[38;5;124m'\u001b[39m\u001b[38;5;124mSequences\u001b[39m\u001b[38;5;124m'\u001b[39m)\n\u001b[0;32m      7\u001b[0m plt\u001b[38;5;241m.\u001b[39mylabel(\u001b[38;5;124m'\u001b[39m\u001b[38;5;124mDuration (ps)\u001b[39m\u001b[38;5;124m'\u001b[39m)\n",
      "File \u001b[1;32m~\\anaconda3\\lib\\site-packages\\matplotlib\\_api\\__init__.py:226\u001b[0m, in \u001b[0;36mcaching_module_getattr.<locals>.__getattr__\u001b[1;34m(name)\u001b[0m\n\u001b[0;32m    224\u001b[0m \u001b[38;5;28;01mif\u001b[39;00m name \u001b[38;5;129;01min\u001b[39;00m props:\n\u001b[0;32m    225\u001b[0m     \u001b[38;5;28;01mreturn\u001b[39;00m props[name]\u001b[38;5;241m.\u001b[39m\u001b[38;5;21m__get__\u001b[39m(instance)\n\u001b[1;32m--> 226\u001b[0m \u001b[38;5;28;01mraise\u001b[39;00m \u001b[38;5;167;01mAttributeError\u001b[39;00m(\n\u001b[0;32m    227\u001b[0m     \u001b[38;5;124mf\u001b[39m\u001b[38;5;124m\"\u001b[39m\u001b[38;5;124mmodule \u001b[39m\u001b[38;5;132;01m{\u001b[39;00m\u001b[38;5;28mcls\u001b[39m\u001b[38;5;241m.\u001b[39m\u001b[38;5;18m__module__\u001b[39m\u001b[38;5;132;01m!r}\u001b[39;00m\u001b[38;5;124m has no attribute \u001b[39m\u001b[38;5;132;01m{\u001b[39;00mname\u001b[38;5;132;01m!r}\u001b[39;00m\u001b[38;5;124m\"\u001b[39m)\n",
      "\u001b[1;31mAttributeError\u001b[0m: module 'matplotlib' has no attribute 'title'"
     ]
    },
    {
     "data": {
      "image/png": "[encoded data removed]",
      "text/plain": [
       "<Figure size 640x480 with 1 Axes>"
      ]
     },
     "metadata": {},
     "output_type": "display_data"
    }
   ],
   "source": [
    "# Plot a histogram of a single column in the DataFrame\n",
    "df.hist(column='Sequences')\n",
    "\n",
    "# Set the title and axis labels\n",
    "plt.title('Duration of Register Shifts')\n",
    "plt.xlabel('Sequences')\n",
    "plt.ylabel('Duration (ps)')\n",
    "\n",
    "# Display the histogram\n",
    "plt.show()"
   ]
  }
 ],
 "metadata": {
  "kernelspec": {
   "display_name": "Python 3 (ipykernel)",
   "language": "python",
   "name": "python3"
  },
  "language_info": {
   "codemirror_mode": {
    "name": "ipython",
    "version": 3
   },
   "file_extension": ".py",
   "mimetype": "text/x-python",
   "name": "python",
   "nbconvert_exporter": "python",
   "pygments_lexer": "ipython3",
   "version": "3.10.9"
  }
 },
 "nbformat": 4,
 "nbformat_minor": 5
}
